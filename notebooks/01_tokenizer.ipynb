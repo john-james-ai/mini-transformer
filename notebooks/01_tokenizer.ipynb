{
 "cells": [
  {
   "cell_type": "markdown",
   "id": "5fa91c23",
   "metadata": {},
   "source": [
    "# Tokenizer Builder"
   ]
  },
  {
   "cell_type": "code",
   "execution_count": 1,
   "id": "b4a8ddcb",
   "metadata": {},
   "outputs": [],
   "source": [
    "from mini_transformer.container import MiniTransformerContainer\n",
    "from mini_transformer.data.extractor.config import TranslationDatasetExtractorConfig\n",
    "from mini_transformer.data.extractor.extract import TranslationDatasetExtractor\n",
    "\n"
   ]
  },
  {
   "cell_type": "code",
   "execution_count": 2,
   "id": "4f83624a",
   "metadata": {},
   "outputs": [],
   "source": [
    "container = MiniTransformerContainer()\n",
    "container.init_resources()\n",
    "container.wire(modules=[__name__, \"mini_transformer.data.extractor.extract\"])"
   ]
  },
  {
   "cell_type": "code",
   "execution_count": 3,
   "id": "19d49796",
   "metadata": {},
   "outputs": [
    {
     "data": {
      "application/vnd.jupyter.widget-view+json": {
       "model_id": "ad2bcfc5f8494bb780ee29b35a45aba8",
       "version_major": 2,
       "version_minor": 0
      },
      "text/plain": [
       "Resolving data files:   0%|          | 0/30 [00:00<?, ?it/s]"
      ]
     },
     "metadata": {},
     "output_type": "display_data"
    },
    {
     "name": "stderr",
     "output_type": "stream",
     "text": [
      "400it [00:07, 50.82it/s]\n"
     ]
    }
   ],
   "source": [
    "config = TranslationDatasetExtractorConfig()\n",
    "extractor = TranslationDatasetExtractor(config=config)\n",
    "dataset = extractor.extract()\n",
    "\n"
   ]
  },
  {
   "cell_type": "code",
   "execution_count": 8,
   "id": "b1e2c305",
   "metadata": {},
   "outputs": [
    {
     "name": "stdout",
     "output_type": "stream",
     "text": [
      "\n",
      "\n",
      "               TranslationDatasetExtractorMetrics               \n",
      "                      started_at | 2025-08-25 15:02:52.816069\n",
      "                        ended_at | 2025-08-25 15:03:07.261464\n",
      "                        duration | 14.445\n",
      "                               n | 400\n",
      "                      throughput | 27.691\n",
      "                     avg_seq_len | 28.991\n",
      "                     max_seq_len | 218\n",
      "                     min_seq_len | 1\n",
      "                 src_avg_seq_len | 26.878\n",
      "                 src_max_seq_len | 218\n",
      "                 src_min_seq_len | 1\n",
      "                 tgt_avg_seq_len | 31.105\n",
      "                 tgt_max_seq_len | 208\n",
      "                 tgt_min_seq_len | 2\n",
      "\n",
      "\n"
     ]
    }
   ],
   "source": [
    "print(dataset.metrics)"
   ]
  }
 ],
 "metadata": {
  "kernelspec": {
   "display_name": "minix4mr",
   "language": "python",
   "name": "python3"
  },
  "language_info": {
   "codemirror_mode": {
    "name": "ipython",
    "version": 3
   },
   "file_extension": ".py",
   "mimetype": "text/x-python",
   "name": "python",
   "nbconvert_exporter": "python",
   "pygments_lexer": "ipython3",
   "version": "3.11.13"
  }
 },
 "nbformat": 4,
 "nbformat_minor": 5
}
