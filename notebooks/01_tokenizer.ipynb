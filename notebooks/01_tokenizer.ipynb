{
 "cells": [
  {
   "cell_type": "markdown",
   "id": "5fa91c23",
   "metadata": {},
   "source": [
    "# Tokenizer Builder"
   ]
  },
  {
   "cell_type": "code",
   "execution_count": null,
   "id": "05dafe83",
   "metadata": {},
   "outputs": [],
   "source": [
    "from tokenizers import Tokenizer\n",
    "from tokenizers.models import BPE\n",
    "from tokenizers.trainers import BpeTrainer\n",
    "from tokenizers.pre_tokenizers import Whitespace"
   ]
  }
 ],
 "metadata": {
  "kernelspec": {
   "display_name": "minix4mr",
   "language": "python",
   "name": "python3"
  },
  "language_info": {
   "name": "python",
   "version": "3.11.13"
  }
 },
 "nbformat": 4,
 "nbformat_minor": 5
}
