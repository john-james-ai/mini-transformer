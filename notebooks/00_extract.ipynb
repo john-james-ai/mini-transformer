{
 "cells": [
  {
   "cell_type": "markdown",
   "id": "6ddcf48f",
   "metadata": {},
   "source": [
    "# Data\n",
    "\n"
   ]
  },
  {
   "cell_type": "markdown",
   "id": "84a91e66",
   "metadata": {},
   "source": [
    "## Imports and Dependencies"
   ]
  },
  {
   "cell_type": "code",
   "execution_count": null,
   "id": "538f94cb",
   "metadata": {},
   "outputs": [],
   "source": [
    "from mini_transformer.data.extractor.config import TranslationDatasetExtractorConfig\n",
    "from mini_transformer.data.extractor.extract import TranslationDatasetExtractor\n",
    "from mini_transformer.container import MiniTransformerContainer"
   ]
  },
  {
   "cell_type": "code",
   "execution_count": null,
   "id": "5e91a674",
   "metadata": {},
   "outputs": [],
   "source": [
    "container = MiniTransformerContainer()\n",
    "container.init_resources()\n",
    "container.wire(modules=[__name__, \"mini_transformer.data.extractor.extract\"])\n",
    "repo = container.data.repo()"
   ]
  },
  {
   "cell_type": "markdown",
   "id": "7e4386f9",
   "metadata": {},
   "source": [
    "## Dataset Extractor\n",
    "From the WMT14 dataset, we will extract training, validation, and test data as follows:\n",
    "- training: 4,000,000\n",
    "- validation: 1,000,000\n",
    "- test: 1,000,000\n",
    "We'll oversample by a factor of 5 to ensure that we have a valid number of samples following validation and filtering."
   ]
  },
  {
   "cell_type": "code",
   "execution_count": null,
   "id": "c15a2489",
   "metadata": {},
   "outputs": [],
   "source": [
    "def extract(split, n, stage=\"raw\"):\n",
    "    config = TranslationDatasetExtractorConfig(split=split, stage=stage, n=n)\n",
    "    extractor = TranslationDatasetExtractor(extractor_config=config)\n",
    "    dataset = extractor.extract()\n",
    "    repo.add(dataset=dataset)\n",
    "    print(dataset.metrics)\n",
    "    "
   ]
  },
  {
   "cell_type": "code",
   "execution_count": null,
   "id": "b0f5fc47",
   "metadata": {},
   "outputs": [],
   "source": [
    "splits = [\"train\", \"validation\", \"test\"]\n",
    "sizes = [4000000, 1000, 1000]\n",
    "stages = [\"raw\", \"raw\", \"raw\"]\n",
    "for split, n, stage in zip(splits, sizes, stages):\n",
    "    extract(split=split, n=n, stage=stage)"
   ]
  }
 ],
 "metadata": {
  "kernelspec": {
   "display_name": "minix4mr",
   "language": "python",
   "name": "python3"
  },
  "language_info": {
   "codemirror_mode": {
    "name": "ipython",
    "version": 3
   },
   "file_extension": ".py",
   "mimetype": "text/x-python",
   "name": "python",
   "nbconvert_exporter": "python",
   "pygments_lexer": "ipython3",
   "version": "3.11.13"
  }
 },
 "nbformat": 4,
 "nbformat_minor": 5
}
