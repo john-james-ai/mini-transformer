{
 "cells": [
  {
   "cell_type": "markdown",
   "id": "6ddcf48f",
   "metadata": {},
   "source": [
    "# Data\n",
    "\n"
   ]
  },
  {
   "cell_type": "markdown",
   "id": "84a91e66",
   "metadata": {},
   "source": [
    "## Imports and Dependencies"
   ]
  },
  {
   "cell_type": "code",
   "execution_count": 1,
   "id": "538f94cb",
   "metadata": {},
   "outputs": [],
   "source": [
    "from mini_transformer.data.extractor.config import TranslationDatasetExtractorConfig\n",
    "from mini_transformer.data.extractor.extract import TranslationDatasetExtractor\n",
    "from mini_transformer.container import MiniTransformerContainer"
   ]
  },
  {
   "cell_type": "code",
   "execution_count": 2,
   "id": "5e91a674",
   "metadata": {},
   "outputs": [],
   "source": [
    "container = MiniTransformerContainer()\n",
    "container.init_resources()\n",
    "container.wire(modules=[__name__, \"mini_transformer.data.extractor.extract\"])\n",
    "repo = container.data.repo()"
   ]
  },
  {
   "cell_type": "markdown",
   "id": "7e4386f9",
   "metadata": {},
   "source": [
    "## Dataset Extractor\n",
    "From the WMT14 dataset, we will extract training, validation, and test data as follows:\n",
    "- training: 4,000,000\n",
    "- validation: 1,000,000\n",
    "- test: 1,000,000\n",
    "We'll oversample by a factor of 5 to ensure that we have a valid number of samples following validation and filtering."
   ]
  },
  {
   "cell_type": "code",
   "execution_count": 3,
   "id": "c15a2489",
   "metadata": {},
   "outputs": [],
   "source": [
    "def extract(split, n, stage=\"raw\"):\n",
    "    config = TranslationDatasetExtractorConfig(split=split, stage=stage, n=n)\n",
    "    extractor = TranslationDatasetExtractor(config=config)\n",
    "    dataset = extractor.extract()\n",
    "    repo.add(dataset=dataset)\n",
    "    print(dataset.metrics)\n",
    "    "
   ]
  },
  {
   "cell_type": "code",
   "execution_count": 4,
   "id": "b0f5fc47",
   "metadata": {},
   "outputs": [
    {
     "data": {
      "application/vnd.jupyter.widget-view+json": {
       "model_id": "1c7e94af8737452baef0a4718cea85d9",
       "version_major": 2,
       "version_minor": 0
      },
      "text/plain": [
       "Resolving data files:   0%|          | 0/30 [00:00<?, ?it/s]"
      ]
     },
     "metadata": {},
     "output_type": "display_data"
    },
    {
     "name": "stderr",
     "output_type": "stream",
     "text": [
      "100%|██████████| 4000000/4000000 [35:43<00:00, 1866.26it/s] \n",
      "[08/26/2025 12:22:30 AM] [INFO] [mini_transformer.data.repo] [add] : Added dataset id: 76174952, name: wmt14-fr-en-train-raw-4000000_examples-76174952 to the Dataset repository.\n"
     ]
    },
    {
     "name": "stdout",
     "output_type": "stream",
     "text": [
      "\n",
      "\n",
      "               TranslationDatasetExtractorMetrics               \n",
      "                      started_at | 2025-08-25 23:13:28.982748\n",
      "                        ended_at | 2025-08-25 23:49:20.104557\n",
      "                        duration | 2151.122\n",
      "                               n | 4000000\n",
      "                      throughput | 1859.495\n",
      "                     avg_seq_len | 27.068\n",
      "                     max_seq_len | 8480\n",
      "                     min_seq_len | 1\n",
      "                 src_avg_seq_len | 25.026\n",
      "                 src_max_seq_len | 4345\n",
      "                 src_min_seq_len | 1\n",
      "                 tgt_avg_seq_len | 29.111\n",
      "                 tgt_max_seq_len | 8480\n",
      "                 tgt_min_seq_len | 1\n",
      "\n",
      "\n"
     ]
    },
    {
     "data": {
      "application/vnd.jupyter.widget-view+json": {
       "model_id": "ffb1b2fa9ebb45c3a9a6e9abea8806e7",
       "version_major": 2,
       "version_minor": 0
      },
      "text/plain": [
       "Resolving data files:   0%|          | 0/30 [00:00<?, ?it/s]"
      ]
     },
     "metadata": {},
     "output_type": "display_data"
    },
    {
     "name": "stderr",
     "output_type": "stream",
     "text": [
      "100%|██████████| 1000/1000 [00:01<00:00, 779.34it/s]\n",
      "[08/26/2025 12:22:37 AM] [INFO] [mini_transformer.data.repo] [add] : Added dataset id: b8deb1ce, name: wmt14-fr-en-validation-raw-1000_examples-b8deb1ce to the Dataset repository.\n"
     ]
    },
    {
     "name": "stdout",
     "output_type": "stream",
     "text": [
      "\n",
      "\n",
      "               TranslationDatasetExtractorMetrics               \n",
      "                      started_at | 2025-08-26 00:22:32.740874\n",
      "                        ended_at | 2025-08-26 00:22:36.139364\n",
      "                        duration | 3.398\n",
      "                               n | 1000\n",
      "                      throughput | 294.291\n",
      "                     avg_seq_len | 19.66\n",
      "                     max_seq_len | 84\n",
      "                     min_seq_len | 1\n",
      "                 src_avg_seq_len | 18.718\n",
      "                 src_max_seq_len | 76\n",
      "                 src_min_seq_len | 1\n",
      "                 tgt_avg_seq_len | 20.603\n",
      "                 tgt_max_seq_len | 84\n",
      "                 tgt_min_seq_len | 1\n",
      "\n",
      "\n"
     ]
    },
    {
     "data": {
      "application/vnd.jupyter.widget-view+json": {
       "model_id": "df1ea3ac79654f929e7876addb7682c8",
       "version_major": 2,
       "version_minor": 0
      },
      "text/plain": [
       "Resolving data files:   0%|          | 0/30 [00:00<?, ?it/s]"
      ]
     },
     "metadata": {},
     "output_type": "display_data"
    },
    {
     "name": "stderr",
     "output_type": "stream",
     "text": [
      "100%|██████████| 1000/1000 [00:00<00:00, 1067.39it/s]\n",
      "[08/26/2025 12:22:39 AM] [INFO] [mini_transformer.data.repo] [add] : Added dataset id: d897ef5d, name: wmt14-fr-en-test-raw-1000_examples-d897ef5d to the Dataset repository.\n"
     ]
    },
    {
     "name": "stdout",
     "output_type": "stream",
     "text": [
      "\n",
      "\n",
      "               TranslationDatasetExtractorMetrics               \n",
      "                      started_at | 2025-08-26 00:22:37.036132\n",
      "                        ended_at | 2025-08-26 00:22:38.970474\n",
      "                        duration | 1.934\n",
      "                               n | 1000\n",
      "                      throughput | 517.063\n",
      "                     avg_seq_len | 22.184\n",
      "                     max_seq_len | 75\n",
      "                     min_seq_len | 3\n",
      "                 src_avg_seq_len | 20.958\n",
      "                 src_max_seq_len | 61\n",
      "                 src_min_seq_len | 3\n",
      "                 tgt_avg_seq_len | 23.41\n",
      "                 tgt_max_seq_len | 75\n",
      "                 tgt_min_seq_len | 3\n",
      "\n",
      "\n"
     ]
    }
   ],
   "source": [
    "splits = [\"train\", \"validation\", \"test\"]\n",
    "sizes = [4000000, 3000, 3000]\n",
    "stages = [\"raw\", \"raw\", \"raw\"]\n",
    "for split, n, stage in zip(splits, sizes, stages):\n",
    "    extract(split=split, n=n, stage=stage)"
   ]
  }
 ],
 "metadata": {
  "kernelspec": {
   "display_name": "minix4mr",
   "language": "python",
   "name": "python3"
  },
  "language_info": {
   "codemirror_mode": {
    "name": "ipython",
    "version": 3
   },
   "file_extension": ".py",
   "mimetype": "text/x-python",
   "name": "python",
   "nbconvert_exporter": "python",
   "pygments_lexer": "ipython3",
   "version": "3.11.13"
  }
 },
 "nbformat": 4,
 "nbformat_minor": 5
}
