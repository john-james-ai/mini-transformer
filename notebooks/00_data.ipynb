{
 "cells": [
  {
   "cell_type": "markdown",
   "id": "6ddcf48f",
   "metadata": {},
   "source": [
    "# Data\n",
    "\n"
   ]
  },
  {
   "cell_type": "code",
   "execution_count": 1,
   "id": "538f94cb",
   "metadata": {},
   "outputs": [],
   "source": [
    "from mini_transformer.data.config import DatasetConfig\n",
    "from mini_transformer.data.builder import TranslationDatasetBuilder\n",
    "from mini_transformer.container import MiniTransformerContainer"
   ]
  },
  {
   "cell_type": "code",
   "execution_count": 2,
   "id": "5e91a674",
   "metadata": {},
   "outputs": [],
   "source": [
    "container = MiniTransformerContainer()\n",
    "container.init_resources()"
   ]
  },
  {
   "cell_type": "markdown",
   "id": "7e4386f9",
   "metadata": {},
   "source": [
    "## Dataset Builder\n",
    "From the WMT14 dataset, we will extract training, validation, and test data as follows:\n",
    "- training: 128 \n",
    "- validation: 16\n",
    "- test: 16\n",
    "We'll oversample by a factor of 5 to ensure that we have a valid number of samples following validation and filtering."
   ]
  },
  {
   "cell_type": "code",
   "execution_count": 3,
   "id": "b0f5fc47",
   "metadata": {},
   "outputs": [],
   "source": [
    "train_config = DatasetConfig(split='train', dataset_size=128, oversample=5)\n",
    "val_config = DatasetConfig(split='validation', dataset_size=16, oversample=5)\n",
    "test_config  =  DatasetConfig(split='test', dataset_size=16, oversample=5)"
   ]
  },
  {
   "cell_type": "code",
   "execution_count": 4,
   "id": "a027b571",
   "metadata": {},
   "outputs": [],
   "source": [
    "builder_train = TranslationDatasetBuilder(config=train_config)\n",
    "builder_val = TranslationDatasetBuilder(config=val_config)\n",
    "builder_test = TranslationDatasetBuilder(config=test_config)\n"
   ]
  },
  {
   "cell_type": "code",
   "execution_count": null,
   "id": "0af66dd4",
   "metadata": {},
   "outputs": [
    {
     "data": {
      "application/vnd.jupyter.widget-view+json": {
       "model_id": "9d2f322062c942e69b8c775fd2e6b741",
       "version_major": 2,
       "version_minor": 0
      },
      "text/plain": [
       "Resolving data files:   0%|          | 0/30 [00:00<?, ?it/s]"
      ]
     },
     "metadata": {},
     "output_type": "display_data"
    },
    {
     "name": "stderr",
     "output_type": "stream",
     "text": [
      "[08/21/2025 11:23:00 PM] [INFO] [mini_transformer.data.builder] [log_summary] : \n",
      "\n",
      "                             DatasetBuilderObserver                             \n",
      "                              started_at | 2025-08-21 23:22:56.607089\n",
      "                                ended_at | 2025-08-21 23:23:00.623940\n",
      "                                duration | 4.017\n",
      "                                 dataset | wmt14\n",
      "                                   split | validation\n",
      "                                    lang | fr-en\n",
      "                                    seed | 42\n",
      "                            dataset_size | 16\n",
      "                              oversample | 5\n",
      "                                    seen | 92\n",
      "                                filtered | 12\n",
      "                              candidates | 80\n",
      "                                selected | 16\n",
      "                          filtered_empty | 0\n",
      "                          filtered_ratio | 0\n",
      "                      filtered_src_short | 12\n",
      "                       filtered_src_long | 0\n",
      "                      filtered_tgt_short | 0\n",
      "                       filtered_tgt_long | 0\n",
      "                              throughput | 22.903\n",
      "\n",
      "\n"
     ]
    },
    {
     "name": "stdout",
     "output_type": "stream",
     "text": [
      "\n",
      "\n",
      "                             DatasetBuilderObserver                             \n",
      "                              started_at | 2025-08-21 23:22:56.607089\n",
      "                                ended_at | 2025-08-21 23:23:00.623940\n",
      "                                duration | 4.017\n",
      "                                 dataset | wmt14\n",
      "                                   split | validation\n",
      "                                    lang | fr-en\n",
      "                                    seed | 42\n",
      "                            dataset_size | 16\n",
      "                              oversample | 5\n",
      "                                    seen | 92\n",
      "                                filtered | 12\n",
      "                              candidates | 80\n",
      "                                selected | 16\n",
      "                          filtered_empty | 0\n",
      "                          filtered_ratio | 0\n",
      "                      filtered_src_short | 12\n",
      "                       filtered_src_long | 0\n",
      "                      filtered_tgt_short | 0\n",
      "                       filtered_tgt_long | 0\n",
      "                              throughput | 22.903\n",
      "\n",
      "\n"
     ]
    }
   ],
   "source": [
    "val = builder_val.build()\n"
   ]
  }
 ],
 "metadata": {
  "kernelspec": {
   "display_name": "spd",
   "language": "python",
   "name": "python3"
  },
  "language_info": {
   "codemirror_mode": {
    "name": "ipython",
    "version": 3
   },
   "file_extension": ".py",
   "mimetype": "text/x-python",
   "name": "python",
   "nbconvert_exporter": "python",
   "pygments_lexer": "ipython3",
   "version": "3.13.5"
  }
 },
 "nbformat": 4,
 "nbformat_minor": 5
}
