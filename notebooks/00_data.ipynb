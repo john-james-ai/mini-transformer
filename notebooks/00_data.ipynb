{
 "cells": [
  {
   "cell_type": "markdown",
   "id": "6ddcf48f",
   "metadata": {},
   "source": [
    "# Data\n",
    "\n"
   ]
  },
  {
   "cell_type": "code",
   "execution_count": 9,
   "id": "538f94cb",
   "metadata": {},
   "outputs": [],
   "source": [
    "from datasets import load_dataset\n",
    "import random"
   ]
  },
  {
   "cell_type": "markdown",
   "id": "7e4386f9",
   "metadata": {},
   "source": [
    "## Data Extractor"
   ]
  },
  {
   "cell_type": "code",
   "execution_count": 15,
   "id": "1d22fc8b",
   "metadata": {},
   "outputs": [
    {
     "data": {
      "application/vnd.jupyter.widget-view+json": {
       "model_id": "9a90505c12e74b22ba3668ae10d98992",
       "version_major": 2,
       "version_minor": 0
      },
      "text/plain": [
       "Resolving data files:   0%|          | 0/30 [00:00<?, ?it/s]"
      ]
     },
     "metadata": {},
     "output_type": "display_data"
    },
    {
     "name": "stdout",
     "output_type": "stream",
     "text": [
      "<class 'datasets.iterable_dataset.IterableDataset'>\n"
     ]
    },
    {
     "data": {
      "text/plain": [
       "[{'translation': {'en': 'One of the people assassinated very recently in Sri Lanka was Mr Kumar Ponnambalam, who had visited the European Parliament just a few months ago.',\n",
       "   'fr': \"L'une des personnes qui vient d'être assassinée au Sri Lanka est M. Kumar Ponnambalam, qui avait rendu visite au Parlement européen il y a quelques mois à peine.\"}},\n",
       " {'translation': {'en': 'Therefore, Madam President, I would ask you to request that the Commission express its opinion on this issue and that we then proceed to the vote.',\n",
       "   'fr': \"Je vous prie dès lors, Madame la Présidente, de demander à la Commission de s'exprimer maintenant et que l'on procède ensuite au vote.\"}},\n",
       " {'translation': {'en': 'The PPE-DE Group is requesting that this item be taken off the agenda.',\n",
       "   'fr': \"Le groupe PPE\\xadDE demande de retirer ce point de l'ordre du jour.\"}},\n",
       " {'translation': {'en': 'Indeed, if we add the two Members who have declared themselves, then the result of the vote would be ....',\n",
       "   'fr': 'Effectivement, si on ajoute les deux collègues qui se sont manifestés, nous obtenons comme résultat....'}},\n",
       " {'translation': {'en': 'I propose that we vote on the request of the Group of the Party of European Socialists that the Commission statement on its strategic objectives should be reinstated.',\n",
       "   'fr': 'Je propose que nous votions sur la demande du groupe socialiste visant à réinscrire la déclaration de la Commission sur ses objectifs stratégiques.'}},\n",
       " {'translation': {'en': 'Now, however, he is to go before the courts once more because the public prosecutor is appealing.',\n",
       "   'fr': \"Cependant, il se fait qu'il semblerait être à nouveau mis en accusation, le ministère public ayant interjeté appel.\"}},\n",
       " {'translation': {'en': '(Parliament rejected the request) President.',\n",
       "   'fr': '(Le Parlement rejette la demande) La Présidente.'}},\n",
       " {'translation': {'en': 'We therefore respect whatever Parliament may decide.',\n",
       "   'fr': 'Par conséquent, nous respectons les décisions que pourrait prendre le Parlement dans ce sens.'}},\n",
       " {'translation': {'en': 'Is there a member who wishes to speak on behalf of this Group to propose this?',\n",
       "   'fr': 'Y a-t-il un collègue pour prendre la parole au nom du groupe et justifier cette demande ?'}},\n",
       " {'translation': {'en': '(Parliament rejected the request, with 164 votes for, 166 votes against and 7 abstentions)',\n",
       "   'fr': '(Le Parlement rejette la demande avec 164 voix pour, 166 voix contre et 7 abstentions)'}}]"
      ]
     },
     "execution_count": 15,
     "metadata": {},
     "output_type": "execute_result"
    }
   ],
   "source": [
    "def sample(iterable, k, seed=42):\n",
    "    rng = random.Random(seed)\n",
    "    R = []\n",
    "    for i, ex in enumerate(iterable, 1):  # 1-based index\n",
    "        if i <= k:\n",
    "            R.append(ex)\n",
    "        else:\n",
    "            break\n",
    "    return R\n",
    "\n",
    "# 1) Stream WMT14 En–Fr (use train, or \"train+validation\" if you want a bigger pool)\n",
    "stream = load_dataset(\"wmt14\" ,\"fr-en\", split=\"train\", streaming=True)\n",
    "print(type(stream))\n",
    "\n",
    "# 2) Uniformly sample 120 examples in one pass\n",
    "reservoir = sample(stream, k=120, seed=42)   # list of dicts\n",
    "\n",
    "# 3) Deterministically split 80/10/10\n",
    "rng = random.Random(42)\n",
    "rng.shuffle(reservoir)\n",
    "train, val, test = reservoir[:96], reservoir[96:108], reservoir[108:]\n",
    "train[:10]"
   ]
  },
  {
   "cell_type": "code",
   "execution_count": 11,
   "id": "3064440c",
   "metadata": {},
   "outputs": [
    {
     "data": {
      "text/plain": [
       "[{'en': 'We shall now hear Mr Wurtz speaking against this request.',\n",
       "  'fr': \"Nous entendons à présent M. Wurtz, qui s' exprime contre cette demande.\"},\n",
       " {'en': 'To this end, I would like to remind you of the resolution of 15 September, which recommended that the proposal be presented as soon as possible.',\n",
       "  'fr': 'En ce sens, je vous rappelle la résolution du 15 septembre, laquelle recommandait que la proposition soit présentée dans les plus brefs délais.'},\n",
       " {'en': 'So why should EU arms producers profit at the expense of innocent people?',\n",
       "  'fr': \"Pourquoi donc les producteurs d'armes de l'UE devraient-ils s'enrichir sur le dos de personnes innocentes ?\"},\n",
       " {'en': 'All of us here are pleased that the courts have acquitted him and made it clear that in Russia, too, access to environmental information is a constitutional right.',\n",
       "  'fr': \"Nous nous réjouissons tous, dans cette enceinte, que le tribunal ait prononcé sa libération et ait clairement établi qu'en Russie aussi, l'accès aux informations environnementales était un droit constitutionnel.\"},\n",
       " {'en': 'Madam President, I should like to draw your attention to a case in which this Parliament has consistently shown an interest.',\n",
       "  'fr': \"Madame la Présidente, je voudrais attirer votre attention sur un cas dont s'est régulièrement occupé le Parlement.\"},\n",
       " {'en': 'It is not a lot to ask.', 'fr': \"Ce n' est pas demander beaucoup.\"},\n",
       " {'en': 'Madam President, in the earlier vote - and I will abide by your ruling on this matter - on the question of the strategic plan of the Commission I indicated that I would like to speak in advance of the vote on behalf of my Group.',\n",
       "  'fr': \"Madame la Présidente, lors du dernier vote \\xad et je m'en remets à votre décision sur ce sujet - sur la question du plan stratégique de la Commission, j'ai signalé que je demandais la parole avant le vote au nom de mon groupe.\"},\n",
       " {'en': \"In the meantime, I should like to observe a minute' s silence, as a number of Members have requested, on behalf of all the victims concerned, particularly those of the terrible storms, in the various countries of the European Union.\",\n",
       "  'fr': \"En attendant, je souhaiterais, comme un certain nombre de collègues me l'ont demandé, que nous observions une minute de silence pour toutes les victimes, des tempêtes notamment, dans les différents pays de l'Union européenne qui ont été touchés.\"},\n",
       " {'en': 'Mr Berenguer Fuster, we shall check all this.',\n",
       "  'fr': 'Cher collègue nous allons vérifier tout cela.'},\n",
       " {'en': 'I would also like to point out, Madam President, that this Parliament voted to express its confidence in President Prodi during the previous legislature. It did so again during this legislature, in July, and then, in September, it voted once more to approve the whole Commission.',\n",
       "  'fr': \"Je vous rappelle en outre, Madame la Présidente, que ce Parlement a voté par deux fois la confiance au président Prodi lors de la précédente législature ; au cours de cette législature, il l'a de nouveau votée en juillet et, ensuite, avec l'entrée en fonction de la nouvelle Commission, il a redonné sa confiance en septembre à l'ensemble de la Commission.\"},\n",
       " {'en': 'Yes, Mr Evans, I feel an initiative of the type you have just suggested would be entirely appropriate.',\n",
       "  'fr': \"Oui, Monsieur Evans, je pense qu'une initiative dans le sens que vous venez de suggérer serait tout à fait appropriée.\"},\n",
       " {'en': 'Relating to Wednesday:', 'fr': 'En ce qui concerne le mercredi :'}]"
      ]
     },
     "execution_count": 11,
     "metadata": {},
     "output_type": "execute_result"
    }
   ],
   "source": [
    "val"
   ]
  },
  {
   "cell_type": "code",
   "execution_count": 14,
   "id": "323ac3a2",
   "metadata": {},
   "outputs": [
    {
     "data": {
      "text/plain": [
       "10"
      ]
     },
     "execution_count": 14,
     "metadata": {},
     "output_type": "execute_result"
    }
   ],
   "source": [
    "len(val[0][\"en\"].split())"
   ]
  },
  {
   "cell_type": "code",
   "execution_count": 18,
   "id": "ed0544b7",
   "metadata": {},
   "outputs": [
    {
     "name": "stdout",
     "output_type": "stream",
     "text": [
      "{'dataset': 'wmt14', 'subset': 'fr-en', 'split': 'train', 'streaming': True, 'train_split': 0.8, 'val_split': 0.1, 'test_split': 0.1, 'k': 160, 'seed': 55, 'min_seq_len': 8, 'max_seq_len': 160, 'min_src_tgt_ratio': 0.5, 'max_src_tgt_ratio': 2.0}\n"
     ]
    },
    {
     "data": {
      "text/plain": [
       "'0228d7'"
      ]
     },
     "execution_count": 18,
     "metadata": {},
     "output_type": "execute_result"
    }
   ],
   "source": [
    "from mini_transformer.config import DatasetExtractorConfig\n",
    "from hashlib import sha1\n",
    "config = DatasetExtractorConfig()\n",
    "print(repr(config.__dict__))\n",
    "sha1((repr(config.__dict__)).encode(\"utf-8\")).hexdigest()[:6]"
   ]
  }
 ],
 "metadata": {
  "kernelspec": {
   "display_name": "spd",
   "language": "python",
   "name": "python3"
  },
  "language_info": {
   "codemirror_mode": {
    "name": "ipython",
    "version": 3
   },
   "file_extension": ".py",
   "mimetype": "text/x-python",
   "name": "python",
   "nbconvert_exporter": "python",
   "pygments_lexer": "ipython3",
   "version": "3.13.5"
  }
 },
 "nbformat": 4,
 "nbformat_minor": 5
}
